{
 "cells": [
  {
   "cell_type": "code",
   "execution_count": 72,
   "metadata": {},
   "outputs": [],
   "source": [
    "from pathlib import Path\n",
    "import os\n",
    "from multiprocessing import cpu_count\n",
    "from multiprocessing.pool import ThreadPool\n",
    "from datasets import load_dataset\n",
    "from huggingface_hub import list_datasets\n",
    "import pickle"
   ]
  },
  {
   "cell_type": "code",
   "execution_count": null,
   "metadata": {},
   "outputs": [],
   "source": [
    "kb_data = []\n",
    "for file in sorted(os.listdir(Path(\"../figures/data_card/T2T\"))):\n",
    "    file = file[:-4]\n",
    "    kb_data.append(file)\n",
    "\n",
    "with open(\"T2T.txt\",\"w\") as out_file:\n",
    "    for elem in kb_data:\n",
    "        out_file.write(f\"{elem}\\n\")\n",
    "        pass"
   ]
  },
  {
   "cell_type": "code",
   "execution_count": 67,
   "metadata": {},
   "outputs": [],
   "source": [
    "def download_dataset(dataset,available_datasets, unavailable_datasets):\n",
    "    try:\n",
    "        load_dataset(f\"bigbio/{dataset[0]}\",dataset[1],trust_remote_code=True)\n",
    "        available_datasets.append(dataset)\n",
    "        #print(f\"{dataset} SUCCESSfully cached !!!\")\n",
    "    except Exception as e:\n",
    "        unavailable_datasets.append(dataset)\n",
    "        print(f\"{dataset} - {e} !!!\")\n",
    "\n",
    "def download_dataset_parallel(args):\n",
    "    ThreadPool(75).imap_unordered(download_dataset, args)"
   ]
  },
  {
   "cell_type": "code",
   "execution_count": 68,
   "metadata": {},
   "outputs": [
    {
     "name": "stdout",
     "output_type": "stream",
     "text": [
      "('bioscope', 'bioscope_abstracts_bigbio_kb') - Couldn't reach https://rgai.sed.hu/sites/rgai.sed.hu/files/bioscope.zip (SSLError(MaxRetryError('HTTPSConnectionPool(host=\\'rgai.sed.hu\\', port=443): Max retries exceeded with url: /sites/rgai.sed.hu/files/bioscope.zip (Caused by SSLError(SSLCertVerificationError(1, \"[SSL: CERTIFICATE_VERIFY_FAILED] certificate verify failed: Hostname mismatch, certificate is not valid for \\'rgai.sed.hu\\'. (_ssl.c:1006)\")))'))) !!!\n",
      "('bioscope', 'bioscope_bigbio_kb') - Couldn't reach https://rgai.sed.hu/sites/rgai.sed.hu/files/bioscope.zip (SSLError(MaxRetryError('HTTPSConnectionPool(host=\\'rgai.sed.hu\\', port=443): Max retries exceeded with url: /sites/rgai.sed.hu/files/bioscope.zip (Caused by SSLError(SSLCertVerificationError(1, \"[SSL: CERTIFICATE_VERIFY_FAILED] certificate verify failed: Hostname mismatch, certificate is not valid for \\'rgai.sed.hu\\'. (_ssl.c:1006)\")))'))) !!!\n",
      "('bioscope', 'bioscope_medical_texts_bigbio_kb') - Couldn't reach https://rgai.sed.hu/sites/rgai.sed.hu/files/bioscope.zip (SSLError(MaxRetryError('HTTPSConnectionPool(host=\\'rgai.sed.hu\\', port=443): Max retries exceeded with url: /sites/rgai.sed.hu/files/bioscope.zip (Caused by SSLError(SSLCertVerificationError(1, \"[SSL: CERTIFICATE_VERIFY_FAILED] certificate verify failed: Hostname mismatch, certificate is not valid for \\'rgai.sed.hu\\'. (_ssl.c:1006)\")))'))) !!!\n",
      "('bioscope', 'bioscope_papers_bigbio_kb') - Couldn't reach https://rgai.sed.hu/sites/rgai.sed.hu/files/bioscope.zip (SSLError(MaxRetryError('HTTPSConnectionPool(host=\\'rgai.sed.hu\\', port=443): Max retries exceeded with url: /sites/rgai.sed.hu/files/bioscope.zip (Caused by SSLError(SSLCertVerificationError(1, \"[SSL: CERTIFICATE_VERIFY_FAILED] certificate verify failed: Hostname mismatch, certificate is not valid for \\'rgai.sed.hu\\'. (_ssl.c:1006)\")))'))) !!!\n",
      "('cadec', 'cadec_bigbio_kb') - Dataset 'bigbio/cadec' doesn't exist on the Hub !!!\n",
      "('cord_ner', 'cord_ner_bigbio_kb') - Dataset 'bigbio/cord_ner' doesn't exist on the Hub !!!\n",
      "('diann_iber_eval', 'diann_iber_eval_bigbio_kb') - Dataset 'bigbio/diann_iber_eval' doesn't exist on the Hub !!!\n",
      "('diann_iber_eval', 'diann_iber_eval_en_bigbio_kb') - Dataset 'bigbio/diann_iber_eval' doesn't exist on the Hub !!!\n",
      "('diann_iber_eval', 'diann_iber_eval_es_bigbio_kb') - Dataset 'bigbio/diann_iber_eval' doesn't exist on the Hub !!!\n",
      "('mantra_gsc', 'mantra_gsc_de_emea_bigbio_kb') - Dataset 'bigbio/mantra_gsc' doesn't exist on the Hub !!!\n",
      "('mantra_gsc', 'mantra_gsc_de_medline_bigbio_kb') - Dataset 'bigbio/mantra_gsc' doesn't exist on the Hub !!!\n",
      "('mantra_gsc', 'mantra_gsc_de_patents_bigbio_kb') - Dataset 'bigbio/mantra_gsc' doesn't exist on the Hub !!!\n",
      "('mantra_gsc', 'mantra_gsc_en_emea_bigbio_kb') - Dataset 'bigbio/mantra_gsc' doesn't exist on the Hub !!!\n",
      "('mantra_gsc', 'mantra_gsc_en_medline_bigbio_kb') - Dataset 'bigbio/mantra_gsc' doesn't exist on the Hub !!!\n",
      "('mantra_gsc', 'mantra_gsc_en_patents_bigbio_kb') - Dataset 'bigbio/mantra_gsc' doesn't exist on the Hub !!!\n",
      "('mantra_gsc', 'mantra_gsc_es_emea_bigbio_kb') - Dataset 'bigbio/mantra_gsc' doesn't exist on the Hub !!!\n",
      "('mantra_gsc', 'mantra_gsc_es_medline_bigbio_kb') - Dataset 'bigbio/mantra_gsc' doesn't exist on the Hub !!!\n",
      "('mantra_gsc', 'mantra_gsc_fr_emea_bigbio_kb') - Dataset 'bigbio/mantra_gsc' doesn't exist on the Hub !!!\n",
      "('mantra_gsc', 'mantra_gsc_fr_medline_bigbio_kb') - Dataset 'bigbio/mantra_gsc' doesn't exist on the Hub !!!\n",
      "('mantra_gsc', 'mantra_gsc_fr_patents_bigbio_kb') - Dataset 'bigbio/mantra_gsc' doesn't exist on the Hub !!!\n",
      "('mantra_gsc', 'mantra_gsc_nl_emea_bigbio_kb') - Dataset 'bigbio/mantra_gsc' doesn't exist on the Hub !!!\n",
      "('mantra_gsc', 'mantra_gsc_nl_medline_bigbio_kb') - Dataset 'bigbio/mantra_gsc' doesn't exist on the Hub !!!\n",
      "('mutation_finder', 'mutation_finder_bigbio_kb') - Dataset 'bigbio/mutation_finder' doesn't exist on the Hub !!!\n",
      "('pho_ner', 'pho_ner_bigbio_kb') - Dataset 'bigbio/pho_ner' doesn't exist on the Hub !!!\n",
      "('pho_ner', 'pho_ner_syllable_bigbio_kb') - Dataset 'bigbio/pho_ner' doesn't exist on the Hub !!!\n",
      "('thomas2011', 'thomas2011_bigbio_kb') - Dataset 'bigbio/thomas2011' doesn't exist on the Hub !!!\n"
     ]
    }
   ],
   "source": [
    "#KB\n",
    "available_datasets, unavailable_datasets = [], []\n",
    "datasets = open(\"KB.txt\",\"r\").read().split(\"\\n\")[:-1]\n",
    "datasets = [tuple(elem.split(\" \")) for elem in datasets]\n",
    "#download_dataset_parallel(datasets)\n",
    "available_kb_datasets, unavailable_kb_datasets = [], []\n",
    "for dataset in datasets:\n",
    "    #download_dataset(dataset, available_kb_datasets, unavailable_kb_datasets)\n",
    "    pass"
   ]
  },
  {
   "cell_type": "code",
   "execution_count": 69,
   "metadata": {},
   "outputs": [],
   "source": [
    "#QA\n",
    "datasets = open(\"QA.txt\",\"r\").read().split(\"\\n\")[:-1]\n",
    "datasets = [tuple(elem.split(\" \")) for elem in datasets]\n",
    "available_qa_datasets, unavailable_qa_datasets = [], []\n",
    "for dataset in datasets:\n",
    "    #download_dataset(dataset, available_qa_datasets, unavailable_qa_datasets)\n",
    "    pass"
   ]
  },
  {
   "cell_type": "code",
   "execution_count": 70,
   "metadata": {},
   "outputs": [
    {
     "name": "stdout",
     "output_type": "stream",
     "text": [
      "('diann_iber_eval', 'diann_iber_eval_bigbio_t2t') - Dataset 'bigbio/diann_iber_eval' doesn't exist on the Hub !!!\n"
     ]
    }
   ],
   "source": [
    "#T2T\n",
    "datasets = open(\"T2T.txt\",\"r\").read().split(\"\\n\")[:-1]\n",
    "datasets = [tuple(elem.split(\" \")) for elem in datasets]\n",
    "available_t2t_datasets, unavailable_t2t_datasets = [], []\n",
    "for dataset in datasets:\n",
    "    #download_dataset(dataset, available_t2t_datasets, unavailable_t2t_datasets)\n",
    "    pass"
   ]
  },
  {
   "cell_type": "code",
   "execution_count": 71,
   "metadata": {},
   "outputs": [
    {
     "data": {
      "application/vnd.jupyter.widget-view+json": {
       "model_id": "368b02d0cc8e4ee4b712c5dee8bced2c",
       "version_major": 2,
       "version_minor": 0
      },
      "text/plain": [
       "Generating train split: 0 examples [00:00, ? examples/s]"
      ]
     },
     "metadata": {},
     "output_type": "display_data"
    },
    {
     "name": "stdout",
     "output_type": "stream",
     "text": [
      "('meddialog', 'meddialog_zh_bigbio_text') - An error occurred while generating the dataset !!!\n"
     ]
    }
   ],
   "source": [
    "#Text\n",
    "datasets = open(\"Text.txt\",\"r\").read().split(\"\\n\")[:-1]\n",
    "datasets = [tuple(elem.split(\" \")) for elem in datasets]\n",
    "available_text_datasets, unavailable_text_datasets = [], []\n",
    "for dataset in datasets:\n",
    "    #download_dataset(dataset, available_text_datasets, unavailable_text_datasets)\n",
    "    pass"
   ]
  },
  {
   "cell_type": "code",
   "execution_count": null,
   "metadata": {},
   "outputs": [],
   "source": [
    "#with open(\"../pkl/available_kb_datasets.pkl\",\"wb\") as pkl: pickle.dump(available_kb_datasets, pkl) \n",
    "#with open(\"../pkl/unavailable_kb_datasets.pkl\",\"wb\") as pkl: pickle.dump(unavailable_kb_datasets, pkl) \n",
    "#with open(\"../pkl/available_qa_datasets.pkl\",\"wb\") as pkl: pickle.dump(available_qa_datasets, pkl) \n",
    "#with open(\"../pkl/unavailable_qa_datasets.pkl\",\"wb\") as pkl: pickle.dump(unavailable_qa_datasets, pkl) \n",
    "#with open(\"../pkl/available_t2t_datasets.pkl\",\"wb\") as pkl: pickle.dump(available_t2t_datasets, pkl) \n",
    "#with open(\"../pkl/unavailable_t2t_datasets.pkl\",\"wb\") as pkl: pickle.dump(unavailable_t2t_datasets, pkl)\n",
    "#with open(\"../pkl/available_text_datasets.pkl\",\"wb\") as pkl: pickle.dump(available_text_datasets, pkl) \n",
    "#with open(\"../pkl/unavailable_text_datasets.pkl\",\"wb\") as pkl: pickle.dump(unavailable_text_datasets, pkl) "
   ]
  }
 ],
 "metadata": {
  "kernelspec": {
   "display_name": "bigbio",
   "language": "python",
   "name": "python3"
  },
  "language_info": {
   "codemirror_mode": {
    "name": "ipython",
    "version": 3
   },
   "file_extension": ".py",
   "mimetype": "text/x-python",
   "name": "python",
   "nbconvert_exporter": "python",
   "pygments_lexer": "ipython3",
   "version": "3.11.7"
  }
 },
 "nbformat": 4,
 "nbformat_minor": 2
}
