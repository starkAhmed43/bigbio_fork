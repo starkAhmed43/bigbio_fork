{
 "cells": [
  {
   "cell_type": "code",
   "execution_count": null,
   "metadata": {},
   "outputs": [],
   "source": [
    "from datasets import load_dataset\n",
    "data = load_dataset(\"bigbio/an_em\",name=\"an_em_bigbio_kb\",trust_remote_code=True)"
   ]
  },
  {
   "cell_type": "code",
   "execution_count": null,
   "metadata": {},
   "outputs": [],
   "source": [
    "df = data[\"train\"].to_pandas()"
   ]
  },
  {
   "cell_type": "code",
   "execution_count": null,
   "metadata": {},
   "outputs": [],
   "source": [
    "try:    \n",
    "    entities = df[df[\"entities\"].apply(len) != 0][\"entities\"].tolist()\n",
    "    entities = [item for sublist in entities for item in sublist]\n",
    "    new_entites = {}\n",
    "    for entity in entities: new_entites[entity[\"id\"]] = f\"{entity['type']}\"\n",
    "    for entity in set([new_entites[entity] for entity in new_entites.keys()]): print(entity)\n",
    "except:\n",
    "    pass"
   ]
  },
  {
   "cell_type": "code",
   "execution_count": null,
   "metadata": {},
   "outputs": [],
   "source": [
    "try:\n",
    "    relations = df[df[\"relations\"].apply(len) != 0][\"relations\"].tolist()\n",
    "    relations = [item for sublist in relations for item in sublist]\n",
    "    for relation in set([f\"{new_entites[relation['arg1_id']]} {relation['type'].upper()} {new_entites[relation['arg2_id']]}\" for relation in relations]):\n",
    "        print(relation)\n",
    "except:\n",
    "    pass"
   ]
  },
  {
   "cell_type": "code",
   "execution_count": null,
   "metadata": {},
   "outputs": [],
   "source": [
    "from pathlib import Path\n",
    "import os\n",
    "from multiprocessing import cpu_count\n",
    "from multiprocessing.pool import ThreadPool\n",
    "from datasets import load_dataset\n",
    "from huggingface_hub import list_datasets"
   ]
  },
  {
   "cell_type": "code",
   "execution_count": null,
   "metadata": {},
   "outputs": [],
   "source": [
    "kb_data = []\n",
    "for file in sorted(os.listdir(Path(\"../figures/data_card/KB\"))):\n",
    "    file = file.split(\"_\")\n",
    "    length = (len(file)//2) - 1\n",
    "    kb_data.append(\"_\".join(word for word in file[:length]))\n",
    "kb_data = set(kb_data)"
   ]
  },
  {
   "cell_type": "code",
   "execution_count": null,
   "metadata": {},
   "outputs": [],
   "source": [
    "def download_dataset_parallel(args)   : \n",
    "    def download_dataset(dataset):\n",
    "        try:\n",
    "            load_dataset(dataset,trust_remote_code=True)\n",
    "            print(f\"{dataset} SUCCESSfully cached!!!\")\n",
    "        except:\n",
    "            print(f\"{dataset} - ERROR!!!\")\n",
    "    ThreadPool(150).imap_unordered(download_dataset, args)\n",
    "\n",
    "def bigbio_datasets():\n",
    "    datasets = [dataset.id for dataset in list_datasets() if dataset.author == \"bigbio\"]\n",
    "    return datasets\n",
    "\n",
    "download_dataset_parallel(bigbio_datasets())"
   ]
  }
 ],
 "metadata": {
  "kernelspec": {
   "display_name": "bigbio",
   "language": "python",
   "name": "python3"
  },
  "language_info": {
   "codemirror_mode": {
    "name": "ipython",
    "version": 3
   },
   "file_extension": ".py",
   "mimetype": "text/x-python",
   "name": "python",
   "nbconvert_exporter": "python",
   "pygments_lexer": "ipython3",
   "version": "3.11.7"
  }
 },
 "nbformat": 4,
 "nbformat_minor": 2
}
